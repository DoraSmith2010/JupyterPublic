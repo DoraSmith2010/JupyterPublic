{
 "cells": [
  {
   "cell_type": "markdown",
   "id": "b1bf55f4-48b9-42e2-97ca-0b170ac2e272",
   "metadata": {},
   "source": [
    "<h1>Data Science Tools and Ecosystem</h1>"
   ]
  },
  {
   "cell_type": "markdown",
   "id": "d2a85c60-8efd-4e88-b1d2-9f9c27fde90f",
   "metadata": {},
   "source": [
    "<p>In this notebook, Data Science Tools and Ecosystem are summarized.</p>"
   ]
  },
  {
   "cell_type": "markdown",
   "id": "505b0b58-305d-4e79-8057-38841aa9a53f",
   "metadata": {},
   "source": [
    "<p>\n",
    "<strong>Objectives:</strong>\n",
    "    <ul>\n",
    "        <li>Languages of Data Science</li>\n",
    "        <li>Data Science Tools</li>\n",
    "        <li>API</li>\n",
    "        <li>Data Sets</li>\n",
    "        <li>Machine Learning Models</li>\n",
    "    </ul>\n",
    "</p>"
   ]
  },
  {
   "cell_type": "markdown",
   "id": "e9645bc7-2967-4d89-91ca-334488a6cd92",
   "metadata": {},
   "source": [
    "<p>Some of the popular languages that Data Scientists use are:\n",
    "    <ol>\n",
    "        <li>R</li>\n",
    "        <li>Python</li>\n",
    "        <li>SQL</li>\n",
    "    </ol>\n",
    "</p>"
   ]
  },
  {
   "cell_type": "markdown",
   "id": "0398b939-bd62-444d-acce-afb1af18cf02",
   "metadata": {},
   "source": [
    "<p>Some of the commonly used libraries used by Data Scientists include:\n",
    "        <ol>\n",
    "        <li>Pandas</li>\n",
    "        <li>NumPy</li>\n",
    "        <li>Matplotlib</li>\n",
    "        <li>Seaborn</li>\n",
    "        <li>Scikit-learn</li>\n",
    "        <li>Keras</li>\n",
    "    </ol>\n",
    "</p>"
   ]
  },
  {
   "cell_type": "markdown",
   "id": "8fd52444-6533-4643-8751-25a38af619b1",
   "metadata": {},
   "source": [
    "<p>\n",
    "     <table style=\"float:left;border:1px solid black;\">\n",
    "        <tr style=\"border:1px solid black;\">\n",
    "            <th style=\"border:1px solid black;\">Data Science Tools</th>\n",
    "        </tr>\n",
    "        <tr style=\"border:1px solid black;\">\n",
    "            <td style=\"border:1px solid black;\">Jupyter</td>\n",
    "        </tr>\n",
    "        <tr style=\"border:1px solid black;\">\n",
    "            <td style=\"border:1px solid black;\">RStudio</td>\n",
    "        </tr>  \n",
    "        <tr style=\"border:1px solid black;\">\n",
    "            <td style=\"border:1px solid black;\">Spyder</td>\n",
    "        </tr>   \n",
    "    </table>\n",
    "</p>"
   ]
  },
  {
   "cell_type": "markdown",
   "id": "baa142b4-53f8-479d-bccf-b0fb8d55fee0",
   "metadata": {},
   "source": [
    "<h3>Below are a few examples of evaluating arithmetic expressions in Python</h3>"
   ]
  },
  {
   "cell_type": "code",
   "execution_count": 7,
   "id": "b3f25b1a-f961-44fa-b6d4-f5db131f32a4",
   "metadata": {},
   "outputs": [
    {
     "name": "stdout",
     "output_type": "stream",
     "text": [
      "17\n"
     ]
    }
   ],
   "source": [
    "#This a simple arithmetic expression to mutiply then add integers\n",
    "a = (3*4)+5\n",
    "print(a)"
   ]
  },
  {
   "cell_type": "code",
   "execution_count": 9,
   "id": "8784bbfa-d4f3-45df-b6e2-46df0c901c71",
   "metadata": {},
   "outputs": [
    {
     "name": "stdout",
     "output_type": "stream",
     "text": [
      "3.3333333333333335\n"
     ]
    }
   ],
   "source": [
    "#This will convert 200 minutes to hours by diving by 60\n",
    "hours = 200/60\n",
    "print(hours)"
   ]
  },
  {
   "cell_type": "markdown",
   "id": "5b84cc01-dc3c-4ef1-8e8b-1b3ba7ac0bed",
   "metadata": {},
   "source": [
    "<p><h2>Author:</h2><br>Dora Smith</p>"
   ]
  },
  {
   "cell_type": "code",
   "execution_count": null,
   "id": "282f0cc4-e9f3-4b43-8155-8a7fbbc061d2",
   "metadata": {},
   "outputs": [],
   "source": []
  }
 ],
 "metadata": {
  "kernelspec": {
   "display_name": "Python",
   "language": "python",
   "name": "conda-env-python-py"
  },
  "language_info": {
   "codemirror_mode": {
    "name": "ipython",
    "version": 3
   },
   "file_extension": ".py",
   "mimetype": "text/x-python",
   "name": "python",
   "nbconvert_exporter": "python",
   "pygments_lexer": "ipython3",
   "version": "3.7.12"
  }
 },
 "nbformat": 4,
 "nbformat_minor": 5
}
